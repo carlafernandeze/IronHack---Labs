{
 "cells": [
  {
   "cell_type": "markdown",
   "metadata": {},
   "source": [
    "# Functions"
   ]
  },
  {
   "cell_type": "markdown",
   "metadata": {},
   "source": [
    "En este laboratorio pondremos en práctica algunos de los conceptos que hemos aprendido en los últimos días.\n",
    "\n",
    "`NOTA: En este laboratorio deberías intentar escribir todas las funciones por ti mismo utilizando solo la sintaxis más básica de Python y sin funciones como len, count, sum, max, min, in, etc. Dale una oportunidad. 🧑🏻‍💻👩🏻‍💻`\n",
    "\n",
    "La celda después de cada ejercicio contiene algunas pruebas para verificar si tu función funciona como se espera."
   ]
  },
  {
   "cell_type": "code",
   "execution_count": 1,
   "metadata": {},
   "outputs": [
    {
     "ename": "ModuleNotFoundError",
     "evalue": "No module named 'mod'",
     "output_type": "error",
     "traceback": [
      "\u001b[1;31m---------------------------------------------------------------------------\u001b[0m",
      "\u001b[1;31mModuleNotFoundError\u001b[0m                       Traceback (most recent call last)",
      "Cell \u001b[1;32mIn[1], line 1\u001b[0m\n\u001b[1;32m----> 1\u001b[0m \u001b[38;5;28;01mfrom\u001b[39;00m \u001b[38;5;21;01mmod\u001b[39;00m\u001b[38;5;21;01m.\u001b[39;00m\u001b[38;5;21;01mtesting\u001b[39;00m \u001b[38;5;28;01mimport\u001b[39;00m \u001b[38;5;241m*\u001b[39m\n\u001b[0;32m      2\u001b[0m \u001b[38;5;28;01mimport\u001b[39;00m \u001b[38;5;21;01munittest\u001b[39;00m\n",
      "\u001b[1;31mModuleNotFoundError\u001b[0m: No module named 'mod'"
     ]
    }
   ],
   "source": [
    "from mod.testing import *\n",
    "import unittest"
   ]
  },
  {
   "cell_type": "markdown",
   "metadata": {},
   "source": [
    "## 1. Escribe una función que devuelva el mayor de dos números"
   ]
  },
  {
   "cell_type": "code",
   "execution_count": 1,
   "metadata": {},
   "outputs": [],
   "source": [
    "def greater(a,b):\n",
    "    if a > b:\n",
    "        return a\n",
    "    else:\n",
    "        return b"
   ]
  },
  {
   "cell_type": "code",
   "execution_count": 3,
   "metadata": {},
   "outputs": [
    {
     "name": "stdout",
     "output_type": "stream",
     "text": [
      "El mayor número és: 10\n"
     ]
    }
   ],
   "source": [
    "resultado = greater (10,5)\n",
    "print(f\"El mayor número és: {resultado}\")"
   ]
  },
  {
   "cell_type": "markdown",
   "metadata": {},
   "source": [
    "## 2. Ahora escribe una función que devuelva el elemento más"
   ]
  },
  {
   "cell_type": "code",
   "execution_count": 5,
   "metadata": {},
   "outputs": [],
   "source": [
    "def elemento_mas_grande(lista):\n",
    "    if len(lista) == 0:\n",
    "        return Ninguno\n",
    "    return max (lista)"
   ]
  },
  {
   "cell_type": "code",
   "execution_count": 7,
   "metadata": {},
   "outputs": [
    {
     "name": "stdout",
     "output_type": "stream",
     "text": [
      "El elemento más grande es: 78\n"
     ]
    }
   ],
   "source": [
    "numeros = [45, 4, 78, 22, 13]\n",
    "resultado = elemento_mas_grande(numeros)\n",
    "print(f\"El elemento más grande es: {resultado}\")"
   ]
  },
  {
   "cell_type": "markdown",
   "metadata": {},
   "source": [
    "## 3. Escribe una función que sume todos los elementos de una lista"
   ]
  },
  {
   "cell_type": "code",
   "execution_count": 9,
   "metadata": {},
   "outputs": [],
   "source": [
    "def sum_all(lst):\n",
    "    return sum(lst)"
   ]
  },
  {
   "cell_type": "code",
   "execution_count": 11,
   "metadata": {
    "scrolled": true
   },
   "outputs": [
    {
     "name": "stdout",
     "output_type": "stream",
     "text": [
      "La suma total de los elementos de la lista es: 15\n"
     ]
    }
   ],
   "source": [
    "lst=([1,2,3,4,5])\n",
    "result = sum_all(lst)\n",
    "print(f\"La suma total de los elementos de la lista es: {result}\")"
   ]
  },
  {
   "cell_type": "markdown",
   "metadata": {},
   "source": [
    "## 4. Escribe otra función que multiplique todos los elementos de una lista"
   ]
  },
  {
   "cell_type": "code",
   "execution_count": 13,
   "metadata": {},
   "outputs": [],
   "source": [
    "def mult_all(lst):\n",
    "    resultado = 1\n",
    "    for elemento in lst:\n",
    "        resultado = resultado * elemento\n",
    "    return resultado"
   ]
  },
  {
   "cell_type": "code",
   "execution_count": 15,
   "metadata": {
    "scrolled": true
   },
   "outputs": [
    {
     "name": "stdout",
     "output_type": "stream",
     "text": [
      "el resultado es de 120\n"
     ]
    }
   ],
   "source": [
    "lst = [4,2,5,3]\n",
    "resultado_final = mult_all(lst)\n",
    "print(f\"el resultado es de {resultado_final}\")"
   ]
  },
  {
   "cell_type": "markdown",
   "metadata": {},
   "source": [
    "## 5. Ahora combina esas dos ideas y escribe una función que reciba una lista y ya sea \"+\" o \"*\", y produzca el resultado acorde"
   ]
  },
  {
   "cell_type": "code",
   "execution_count": 17,
   "metadata": {},
   "outputs": [],
   "source": [
    "def oper_all(arr, oper = \"*\"):\n",
    "    if oper == \"+\":\n",
    "        return sum(arr)\n",
    "    elif oper == \"*\":\n",
    "        resultado = 1\n",
    "        for elemento in arr:\n",
    "            resultado *= elemento\n",
    "        return resultado\n",
    "    else:\n",
    "        return \"Operación no válida.\"\n",
    "        "
   ]
  },
  {
   "cell_type": "code",
   "execution_count": 19,
   "metadata": {},
   "outputs": [
    {
     "name": "stdout",
     "output_type": "stream",
     "text": [
      "El resultado de la suma es de 134\n",
      "El resultado de la multiplicación es de 562464\n"
     ]
    }
   ],
   "source": [
    "resultado_suma = oper_all([3,62,7,8,54],'+')\n",
    "resultado_multiplicacion = oper_all([3,62,7,8,54],'*')\n",
    "print(f\"El resultado de la suma es de {resultado_suma}\")\n",
    "print(f\"El resultado de la multiplicación es de {resultado_multiplicacion}\")\n"
   ]
  },
  {
   "cell_type": "markdown",
   "metadata": {},
   "source": [
    "## 6. Escribe una función que devuelva el factorial de un número."
   ]
  },
  {
   "cell_type": "code",
   "execution_count": 21,
   "metadata": {},
   "outputs": [],
   "source": [
    "def factorial(n):\n",
    "    resultado = 1\n",
    "    for i in range (1,n+1):\n",
    "        resultado = resultado * i \n",
    "    return resultado\n",
    "        "
   ]
  },
  {
   "cell_type": "code",
   "execution_count": 23,
   "metadata": {},
   "outputs": [],
   "source": [
    "# Fórmula factorial\n",
    "# n! = n * (n - 1) *...*1\n",
    "\n",
    "# Este código define una función llamada \"factorial\" que toma una entrada \"n\". La función utiliza un bucle for para iterar a través del rango de números\n",
    "# desde 1 hasta n+1. Para cada número en ese rango, multiplica el valor actual de x por el número en el rango. Al final del bucle,\n",
    "# la función devuelve el valor final de x, que será el factorial del número de entrada \"n\".\n",
    "\n",
    "# El factorial de un entero positivo n es el producto de todos los enteros positivos menores o iguales a n.\n",
    "# Por ejemplo, el factorial de 6 (escrito \"6!\") es 6 * 5 * 4 * 3 * 2 * 1 = 720.\n",
    "\n",
    "# Así que esta función toma una entrada de cualquier entero positivo y devuelve el factorial de ese número."
   ]
  },
  {
   "cell_type": "code",
   "execution_count": 25,
   "metadata": {},
   "outputs": [
    {
     "data": {
      "text/plain": [
       "720"
      ]
     },
     "execution_count": 25,
     "metadata": {},
     "output_type": "execute_result"
    }
   ],
   "source": [
    "factorial(6)"
   ]
  },
  {
   "cell_type": "markdown",
   "metadata": {},
   "source": [
    "## 7. Escribe una función que tome una lista y devuelva una lista de los valores únicos.\n",
    "\n",
    "`NOTE: No podemos usar set. 🤔`"
   ]
  },
  {
   "cell_type": "code",
   "execution_count": 27,
   "metadata": {},
   "outputs": [],
   "source": [
    "def unique(lst_un):\n",
    "    unicos = []\n",
    "    for item in lst_un:\n",
    "        if item not in unicos:\n",
    "            unicos.append(item)\n",
    "    return unicos"
   ]
  },
  {
   "cell_type": "code",
   "execution_count": 29,
   "metadata": {},
   "outputs": [
    {
     "name": "stdout",
     "output_type": "stream",
     "text": [
      "Los valores unicos son:[8, 7, 22, 56, 45, 13]\n"
     ]
    }
   ],
   "source": [
    "lst_or = [8, 7, 22, 56, 7, 45, 13, 22, 45]\n",
    "lst_un = unique(lst_or)\n",
    "print(f\"Los valores unicos son:{lst_un}\")"
   ]
  },
  {
   "cell_type": "markdown",
   "metadata": {},
   "source": [
    "## 8. Escribe una función que devuelva la moda de una lista, es decir: el elemento que aparece más veces.\n",
    "\n",
    "`NOTE: No se debe usar count... 🧐`"
   ]
  },
  {
   "cell_type": "code",
   "execution_count": 31,
   "metadata": {},
   "outputs": [],
   "source": [
    "def mode_counter(arr):\n",
    "    frecuencia = {}\n",
    "    for item in arr:\n",
    "        if item in frecuencia:\n",
    "            frecuencia[item] = frecuencia[item]+1\n",
    "        else:\n",
    "            frecuencia[item] = 1\n",
    "    moda = max(frecuencia, key=frecuencia.get)\n",
    "\n",
    "    return moda"
   ]
  },
  {
   "cell_type": "code",
   "execution_count": 33,
   "metadata": {},
   "outputs": [
    {
     "name": "stdout",
     "output_type": "stream",
     "text": [
      "La moda de esta lista es: 28\n"
     ]
    }
   ],
   "source": [
    "arr = [25,26,26,27,28,28,28,29,30,30]\n",
    "resultado = mode_counter(arr)\n",
    "print(f\"La moda de esta lista es: {resultado}\")"
   ]
  },
  {
   "cell_type": "markdown",
   "metadata": {},
   "source": [
    "## 9. Escribe una función que calcule la desviación estándar de una lista.\n",
    "`NOTE: no utilices librerías ni ninguna función ya construida. 😉`"
   ]
  },
  {
   "cell_type": "code",
   "execution_count": 35,
   "metadata": {},
   "outputs": [],
   "source": [
    "def st_dev(list_sd):\n",
    "    media = sum(list_sd) / len(list_sd)\n",
    "    suma_cuadrados = sum((x - media) **2 for x in list_sd)\n",
    "    varianza = suma_cuadrados / len(list_sd)\n",
    "    desviacion = varianza ** 0.5\n",
    "    return desviacion"
   ]
  },
  {
   "cell_type": "code",
   "execution_count": 37,
   "metadata": {},
   "outputs": [
    {
     "name": "stdout",
     "output_type": "stream",
     "text": [
      "La desviación estándar de esta lista es: 4.898979485566356\n"
     ]
    }
   ],
   "source": [
    "datos = [10,12,23,23,16,23,21,16]\n",
    "resultado = st_dev(datos)\n",
    "print(f\"La desviación estándar de esta lista es: {resultado}\")"
   ]
  },
  {
   "cell_type": "markdown",
   "metadata": {},
   "source": [
    "## 10. Escribe una función para verificar si una cadena es un pangrama, es decir: si contiene todas las letras del alfabeto al menos una vez. Ten en cuenta que las cadenas pueden contener caracteres que no son letras."
   ]
  },
  {
   "cell_type": "code",
   "execution_count": 39,
   "metadata": {},
   "outputs": [],
   "source": [
    "def pangram(string):\n",
    "    alfabeto = set('abcdefghijklmnopqrstvwxyz')\n",
    "    letras_encontradas = set(string.lower())\n",
    "    return alfabeto.issubset(letras_encontradas)"
   ]
  },
  {
   "cell_type": "code",
   "execution_count": 41,
   "metadata": {},
   "outputs": [
    {
     "name": "stdout",
     "output_type": "stream",
     "text": [
      "La string1 es un pangrama: False\n"
     ]
    }
   ],
   "source": [
    "string1 = \"El gato con botas\"\n",
    "print(f\"La string1 es un pangrama: {pangram(string1)}\")"
   ]
  },
  {
   "cell_type": "markdown",
   "metadata": {},
   "source": [
    "## 11. Escribe una función que reciba una cadena de palabras separadas por comas y devuelva una cadena de palabras separadas por comas ordenadas alfabéticamente.\n",
    "\n",
    "`NOTA: Puedes usar sorted pero no split y definitivamente no join! 🤪`"
   ]
  },
  {
   "cell_type": "code",
   "execution_count": 53,
   "metadata": {},
   "outputs": [],
   "source": [
    "def sort_alpha(string):\n",
    "    words = []\n",
    "    start = 0\n",
    "    while True:\n",
    "        coma = string.find(',', start)\n",
    "        if coma == -1:\n",
    "            word = string[start:]\n",
    "            words.append(word)\n",
    "            break\n",
    "        else:\n",
    "            word = string[start:coma]\n",
    "            words.append(word)\n",
    "            start = coma + 1\n",
    "    sorted_words = sorted(words)\n",
    "    resultado = ''\n",
    "    for i in range(len(sorted_words)):\n",
    "        if i > 0:\n",
    "            resultado += ','\n",
    "        resultado += sorted_words[i]\n",
    "    return resultado\n"
   ]
  },
  {
   "cell_type": "code",
   "execution_count": 59,
   "metadata": {},
   "outputs": [
    {
     "name": "stdout",
     "output_type": "stream",
     "text": [
      "Cadena ordenada:  kiwi , manzana, melon, platano, sandia\n"
     ]
    }
   ],
   "source": [
    "string = \" manzana, sandia, platano, melon, kiwi \"\n",
    "resultado = sort_alpha(string)\n",
    "print(f\"Cadena ordenada: {resultado}\")"
   ]
  },
  {
   "cell_type": "markdown",
   "metadata": {},
   "source": [
    "## 12. Escribe una función para verificar si una contraseña dada es fuerte (al menos 8 caracteres, al menos una minúscula, al menos una mayúscula, al menos un número y al menos un carácter especial). Debería devolver True si es fuerte y False si no lo es."
   ]
  },
  {
   "cell_type": "code",
   "execution_count": 61,
   "metadata": {},
   "outputs": [],
   "source": [
    "def check_pass(password):\n",
    "    if len(password) < 8:\n",
    "        return False\n",
    "    minus = False\n",
    "    mayus = False\n",
    "    number = False\n",
    "    special_ch = False\n",
    "\n",
    "    special_characters = set(\"!@#$%^&*()-_+=<>?/\")\n",
    "\n",
    "    for char in password:\n",
    "        if char.islower():\n",
    "            minus = True\n",
    "        elif char.isupper():\n",
    "            mayus = True\n",
    "        elif char.isdigit():\n",
    "            number = True\n",
    "        elif char in special_characters:\n",
    "            special_ch = True\n",
    "    return (minus and mayus and number and special_ch)\n",
    "        "
   ]
  },
  {
   "cell_type": "code",
   "execution_count": 65,
   "metadata": {},
   "outputs": [
    {
     "name": "stdout",
     "output_type": "stream",
     "text": [
      "La constraseña 1 es fuerte: False\n",
      "La constraseña 2 es fuerte: False\n",
      "La constraseña 3 es fuerte: False\n",
      "La constraseña 4 es fuerte: True\n"
     ]
    }
   ],
   "source": [
    "password1 = \"Password1234\"\n",
    "password2 = \"pass123\"\n",
    "password3 = \"Passw#IIII\"\n",
    "password4 = \"Str0ngP@ssw0rd\"\n",
    "print(f\"La constraseña 1 es fuerte: {check_pass(password1)}\")\n",
    "print(f\"La constraseña 2 es fuerte: {check_pass(password2)}\")\n",
    "print(f\"La constraseña 3 es fuerte: {check_pass(password3)}\")\n",
    "print(f\"La constraseña 4 es fuerte: {check_pass(password4)}\")"
   ]
  }
 ],
 "metadata": {
  "kernelspec": {
   "display_name": "Python 3 (ipykernel)",
   "language": "python",
   "name": "python3"
  },
  "language_info": {
   "codemirror_mode": {
    "name": "ipython",
    "version": 3
   },
   "file_extension": ".py",
   "mimetype": "text/x-python",
   "name": "python",
   "nbconvert_exporter": "python",
   "pygments_lexer": "ipython3",
   "version": "3.12.4"
  },
  "vscode": {
   "interpreter": {
    "hash": "aee8b7b246df8f9039afb4144a1f6fd8d2ca17a180786b69acc140d282b71a49"
   }
  }
 },
 "nbformat": 4,
 "nbformat_minor": 4
}
